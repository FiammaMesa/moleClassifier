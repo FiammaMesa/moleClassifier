{
 "cells": [
  {
   "cell_type": "code",
   "execution_count": 7,
   "metadata": {},
   "outputs": [],
   "source": [
    "from time import time\n",
    "import pandas as pd\n",
    "from os import listdir\n",
    "from os.path import isfile, join\n",
    "import os, shutil, glob\n",
    "import cv2, csv\n",
    "from PIL import Image\n",
    "import random\n",
    "import albumentations as A\n",
    "import matplotlib\n",
    "import matplotlib.pyplot as plt\n",
    "%matplotlib inline"
   ]
  },
  {
   "cell_type": "code",
   "execution_count": 8,
   "metadata": {
    "scrolled": true
   },
   "outputs": [
    {
     "data": {
      "text/html": [
       "<div>\n",
       "<style scoped>\n",
       "    .dataframe tbody tr th:only-of-type {\n",
       "        vertical-align: middle;\n",
       "    }\n",
       "\n",
       "    .dataframe tbody tr th {\n",
       "        vertical-align: top;\n",
       "    }\n",
       "\n",
       "    .dataframe thead th {\n",
       "        text-align: right;\n",
       "    }\n",
       "</style>\n",
       "<table border=\"1\" class=\"dataframe\">\n",
       "  <thead>\n",
       "    <tr style=\"text-align: right;\">\n",
       "      <th></th>\n",
       "      <th>lesion_id</th>\n",
       "      <th>image_id</th>\n",
       "      <th>dx</th>\n",
       "      <th>dx_type</th>\n",
       "      <th>age</th>\n",
       "      <th>sex</th>\n",
       "      <th>localization</th>\n",
       "    </tr>\n",
       "  </thead>\n",
       "  <tbody>\n",
       "    <tr>\n",
       "      <th>0</th>\n",
       "      <td>HAM_0000118</td>\n",
       "      <td>ISIC_0027419</td>\n",
       "      <td>bkl</td>\n",
       "      <td>histo</td>\n",
       "      <td>80.0</td>\n",
       "      <td>male</td>\n",
       "      <td>scalp</td>\n",
       "    </tr>\n",
       "    <tr>\n",
       "      <th>1</th>\n",
       "      <td>HAM_0000118</td>\n",
       "      <td>ISIC_0025030</td>\n",
       "      <td>bkl</td>\n",
       "      <td>histo</td>\n",
       "      <td>80.0</td>\n",
       "      <td>male</td>\n",
       "      <td>scalp</td>\n",
       "    </tr>\n",
       "    <tr>\n",
       "      <th>2</th>\n",
       "      <td>HAM_0002730</td>\n",
       "      <td>ISIC_0026769</td>\n",
       "      <td>bkl</td>\n",
       "      <td>histo</td>\n",
       "      <td>80.0</td>\n",
       "      <td>male</td>\n",
       "      <td>scalp</td>\n",
       "    </tr>\n",
       "    <tr>\n",
       "      <th>3</th>\n",
       "      <td>HAM_0002730</td>\n",
       "      <td>ISIC_0025661</td>\n",
       "      <td>bkl</td>\n",
       "      <td>histo</td>\n",
       "      <td>80.0</td>\n",
       "      <td>male</td>\n",
       "      <td>scalp</td>\n",
       "    </tr>\n",
       "    <tr>\n",
       "      <th>4</th>\n",
       "      <td>HAM_0001466</td>\n",
       "      <td>ISIC_0031633</td>\n",
       "      <td>bkl</td>\n",
       "      <td>histo</td>\n",
       "      <td>75.0</td>\n",
       "      <td>male</td>\n",
       "      <td>ear</td>\n",
       "    </tr>\n",
       "  </tbody>\n",
       "</table>\n",
       "</div>"
      ],
      "text/plain": [
       "     lesion_id      image_id   dx dx_type   age   sex localization\n",
       "0  HAM_0000118  ISIC_0027419  bkl   histo  80.0  male        scalp\n",
       "1  HAM_0000118  ISIC_0025030  bkl   histo  80.0  male        scalp\n",
       "2  HAM_0002730  ISIC_0026769  bkl   histo  80.0  male        scalp\n",
       "3  HAM_0002730  ISIC_0025661  bkl   histo  80.0  male        scalp\n",
       "4  HAM_0001466  ISIC_0031633  bkl   histo  75.0  male          ear"
      ]
     },
     "execution_count": 8,
     "metadata": {},
     "output_type": "execute_result"
    }
   ],
   "source": [
    "# Prepare directories with images on classified folders\n",
    "\n",
    "images = []\n",
    "df = pd.read_csv('HAM10000_metadata.csv')\n",
    "df_dx = df.dx.unique()\n",
    "images_by_folder = {}\n",
    "\n",
    "if os.path.exists('data_images'):\n",
    "    shutil.rmtree('data_images') \n",
    "\n",
    "os.mkdir('data_images')\n",
    "    \n",
    "for dx in df_dx:\n",
    "    images_by_folder[dx] = []\n",
    "    dirName = 'data_images/' + dx\n",
    "    if not os.path.exists(dirName):\n",
    "        os.mkdir(dirName)\n",
    "        \n",
    "images_1 = [f for f in listdir('HAM10000_images_part_1') if isfile(join('HAM10000_images_part_1', f))]\n",
    "images_2 = [f for f in listdir('HAM10000_images_part_2') if isfile(join('HAM10000_images_part_2', f))]\n",
    "\n",
    "for f in images_1:\n",
    "    dx = df.loc[df['image_id'] == os.path.splitext(f)[0], 'dx'].values.item()\n",
    "    images_by_folder[dx].append(f)\n",
    "    dx_dir = 'data_images/' + dx\n",
    "    shutil.copy('HAM10000_images_part_1/' + f, dx_dir)\n",
    "    images.append(dx_dir + '/' + f)\n",
    "    \n",
    "for f in images_2:\n",
    "    dx = df.loc[df['image_id'] == os.path.splitext(f)[0], 'dx'].values.item()\n",
    "    images_by_folder[dx].append(f)\n",
    "    dx_dir = 'data_images/' + dx\n",
    "    shutil.copy('HAM10000_images_part_2/' + f, dx_dir)\n",
    "    images.append(dx_dir + '/' + f)\n",
    "\n",
    "df.head()"
   ]
  },
  {
   "cell_type": "code",
   "execution_count": 9,
   "metadata": {},
   "outputs": [],
   "source": [
    "transforms = [A.Compose([A.Flip(always_apply=True, p=1.0)]),\n",
    "A.Compose([A.HorizontalFlip(always_apply=True, p=1.0)]),\n",
    "A.Compose([A.Rotate(always_apply=True, p=1.0, limit=(44, 45), interpolation=0, border_mode=1, value=(0, 0, 0), mask_value=None)]),\n",
    "A.Compose([A.Rotate(always_apply=True, p=1.0, limit=(89, 90), interpolation=0, border_mode=1, value=(0, 0, 0), mask_value=None)]),\n",
    "A.Compose([A.Rotate(always_apply=True, p=1.0, limit=(134, 135), interpolation=0, border_mode=1, value=(0, 0, 0), mask_value=None)]),\n",
    "A.Compose([A.Rotate(always_apply=True, p=1.0, limit=(179, 180), interpolation=0, border_mode=1, value=(0, 0, 0), mask_value=None)]),\n",
    "A.Compose([A.Rotate(always_apply=True, p=1.0, limit=(224, 225), interpolation=0, border_mode=1, value=(0, 0, 0), mask_value=None)]),\n",
    "A.Compose([A.Rotate(always_apply=True, p=1.0, limit=(269, 270), interpolation=0, border_mode=1, value=(0, 0, 0), mask_value=None)]),\n",
    "A.Compose([A.Rotate(always_apply=True, p=1.0, limit=(314, 315), interpolation=0, border_mode=1, value=(0, 0, 0), mask_value=None)])]"
   ]
  },
  {
   "cell_type": "code",
   "execution_count": null,
   "metadata": {
    "scrolled": true
   },
   "outputs": [],
   "source": [
    "# Oversampling\n",
    "\n",
    "files_amount = []\n",
    "for folder in images_by_folder:\n",
    "    files_amount.append(len(images_by_folder[folder]))\n",
    "    \n",
    "max_copies = min(files_amount) * 10\n",
    "last_sample_name = 34321\n",
    "\n",
    "def visualize(image):\n",
    "    plt.figure(figsize=(10, 10))\n",
    "    plt.axis('off')\n",
    "    plt.imshow(image)\n",
    "\n",
    "def writeLinesInCsv(file, last_sample_name, csv_line):\n",
    "    with open(file, 'a') as fd:\n",
    "        csv_line[1] = 'ISIC_00' + str(last_sample_name)\n",
    "        fd.write(csv_line[0] + ',' + csv_line[1] + ',' + csv_line[2] + ',' + csv_line[3] + ',' + csv_line[4] + ',' + csv_line[5] + ',' + csv_line[6] +'\\n')\n",
    "\n",
    "for folder in images_by_folder:\n",
    "    for image in images_by_folder[folder]:\n",
    "        with open('HAM10000_metadata_with_more_samples.csv') as f_obj:\n",
    "            reader = csv.reader(f_obj, delimiter=',')\n",
    "            for line in reader:\n",
    "                if image.replace('.jpg', '') in line:  \n",
    "                    csv_line = line\n",
    "                    break\n",
    "        imageToTrans = cv2.imread('data_images/' + folder + '/' + image)\n",
    "        \n",
    "        for transform in transforms:\n",
    "            \n",
    "            image_path = 'data_images/' + folder + '/' + 'ISIC_00' + str(last_sample_name) + '.jpg'\n",
    "            transformed = transform(image=imageToTrans)['image']\n",
    "            #visualize(transformed)\n",
    "            cv2.imwrite(image_path, transformed)\n",
    "            writeLinesInCsv('HAM10000_metadata_with_more_samples.csv', last_sample_name, csv_line)\n",
    "            last_sample_name += 1\n",
    "        \n",
    "        n_files = os.listdir('data_images/'  + folder)\n",
    "        if len(n_files) > max_copies: \n",
    "            break\n"
   ]
  },
  {
   "cell_type": "code",
   "execution_count": 5,
   "metadata": {},
   "outputs": [
    {
     "name": "stdout",
     "output_type": "stream",
     "text": [
      "6706\n",
      "5556\n"
     ]
    }
   ],
   "source": [
    "# Undersampling\n",
    "\n",
    "for folder in images_by_folder:\n",
    "    folder_list = os.listdir('data_images/' + folder)\n",
    "    if len(folder_list) > max_copies + (max_copies * .05):\n",
    "        iterator = 0\n",
    "        for to_remove in random.sample(folder_list, int(len(folder_list) - max_copies)):\n",
    "            os.remove('data_images/' + folder + '/' + to_remove)\n",
    "            iterator +=1"
   ]
  },
  {
   "cell_type": "code",
   "execution_count": 6,
   "metadata": {},
   "outputs": [
    {
     "name": "stdout",
     "output_type": "stream",
     "text": [
      "654\n",
      "1028\n",
      "1151\n",
      "230\n",
      "1151\n",
      "1150\n",
      "284\n"
     ]
    }
   ],
   "source": [
    "# Separate a validation dataset in other folder moving 30% images. (¿BALANCEAR DATOS?)\n",
    "\n",
    "if os.path.exists('data_test'):\n",
    "    shutil.rmtree('data_test') \n",
    "\n",
    "os.mkdir('data_test')\n",
    "list = os.listdir('data_images/')\n",
    "for folder in list:\n",
    "    n_files = os.listdir('data_images/'  + folder)\n",
    "    os.mkdir('data_test/' + folder)\n",
    "    folder_list = os.listdir('data_images/' + folder)\n",
    "    for to_copy in random.sample(folder_list, int(len(folder_list)*.3)):\n",
    "        shutil.move('data_images/' + folder + '/' + to_copy, 'data_test/' + folder + '/' + to_copy)"
   ]
  },
  {
   "cell_type": "code",
   "execution_count": null,
   "metadata": {},
   "outputs": [],
   "source": []
  }
 ],
 "metadata": {
  "kernelspec": {
   "display_name": "Python 3",
   "language": "python",
   "name": "python3"
  },
  "language_info": {
   "codemirror_mode": {
    "name": "ipython",
    "version": 3
   },
   "file_extension": ".py",
   "mimetype": "text/x-python",
   "name": "python",
   "nbconvert_exporter": "python",
   "pygments_lexer": "ipython3",
   "version": "3.8.5"
  }
 },
 "nbformat": 4,
 "nbformat_minor": 4
}
